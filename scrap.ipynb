{
 "cells": [
  {
   "cell_type": "code",
   "execution_count": 1,
   "metadata": {},
   "outputs": [],
   "source": [
    "import requests\n",
    "from bs4 import BeautifulSoup\n",
    "from urllib.request import urlopen as uReq\n",
    "import os\n"
   ]
  },
  {
   "cell_type": "code",
   "execution_count": 14,
   "metadata": {},
   "outputs": [],
   "source": [
    "query = \"Dr.A.P.J.ABDUL KALAM\"\n",
    "\n",
    "          # directory to store downloaded images\n",
    "save_directory = \"images/\"\n",
    "\n",
    "        # create the directory if it doesn't exist\n",
    "if not os.path.exists(save_directory):\n",
    "    os.makedirs(save_directory)\n",
    "\n",
    "\n",
    "\n",
    "# fake user agent to avoid getting blocked by Google\n",
    "headers = {\"User-Agent\": \"Mozilla/5.0 (Windows NT 10.0; Win64; x64) AppleWebKit/537.36 (KHTML, like Gecko) Chrome/58.0.3029.110 Safari/537.36\"}\n",
    "\n",
    "        # fetch the search results page\n",
    "response = requests.get(f\"https://www.google.com/search?q={query}&sxsrf=AJOqlzUuff1RXi2mm8I_OqOwT9VjfIDL7w:1676996143273&source=lnms&tbm=isch&sa=X&ved=2ahUKEwiq-qK7gaf9AhXUgVYBHYReAfYQ_AUoA3oECAEQBQ&biw=1920&bih=937&dpr=1#imgrc=1th7VhSesfMJ4M\")\n",
    "\n",
    "\n",
    "        # parse the HTML using BeautifulSoup\n",
    "soup = BeautifulSoup(response.content, \"html.parser\")\n",
    "\n",
    "        # find all img tags\n",
    "image_tags = soup.find_all(\"img\")\n",
    "\n",
    "        # download each image and save it to the specified directory\n",
    "del image_tags[0]\n",
    "img_data=[]\n",
    "for index,image_tag in enumerate(image_tags):\n",
    "            # get the image source URL\n",
    "            image_url = image_tag['src']\n",
    "            #print(image_url)\n",
    "\n",
    "            # send a request to the image URL and save the image\n",
    "            image_data = requests.get(image_url).content\n",
    "            mydict={\"Index\":index,\"Image\":image_data}\n",
    "            img_data.append(mydict)\n",
    "            with open(os.path.join(save_directory, f\"{query}_{image_tags.index(image_tag)}.jpg\"), \"wb\") as f:\n",
    "                f.write(image_data)"
   ]
  },
  {
   "cell_type": "code",
   "execution_count": null,
   "metadata": {},
   "outputs": [],
   "source": []
  }
 ],
 "metadata": {
  "kernelspec": {
   "display_name": "condaenv",
   "language": "python",
   "name": "python3"
  },
  "language_info": {
   "codemirror_mode": {
    "name": "ipython",
    "version": 3
   },
   "file_extension": ".py",
   "mimetype": "text/x-python",
   "name": "python",
   "nbconvert_exporter": "python",
   "pygments_lexer": "ipython3",
   "version": "3.8.17"
  },
  "orig_nbformat": 4
 },
 "nbformat": 4,
 "nbformat_minor": 2
}
